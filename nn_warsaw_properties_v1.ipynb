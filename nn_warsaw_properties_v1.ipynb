{
 "cells": [
  {
   "cell_type": "code",
   "execution_count": 1,
   "metadata": {},
   "outputs": [],
   "source": [
    "import tensorflow as tf\n",
    "import numpy as np\n",
    "import pandas as pd\n",
    "from sklearn import preprocessing\n",
    "import matplotlib.pyplot as plt\n",
    "import seaborn as sns\n",
    "sns.set()"
   ]
  },
  {
   "cell_type": "code",
   "execution_count": 2,
   "metadata": {},
   "outputs": [
    {
     "name": "stdout",
     "output_type": "stream",
     "text": [
      "C:\\Users\\KK\\Downloads\n"
     ]
    }
   ],
   "source": [
    "# %ls\n",
    "# %cd C:\\Users\\KK\\Downloads"
   ]
  },
  {
   "cell_type": "code",
   "execution_count": 3,
   "metadata": {},
   "outputs": [
    {
     "data": {
      "text/html": [
       "<div>\n",
       "<style scoped>\n",
       "    .dataframe tbody tr th:only-of-type {\n",
       "        vertical-align: middle;\n",
       "    }\n",
       "\n",
       "    .dataframe tbody tr th {\n",
       "        vertical-align: top;\n",
       "    }\n",
       "\n",
       "    .dataframe thead th {\n",
       "        text-align: right;\n",
       "    }\n",
       "</style>\n",
       "<table border=\"1\" class=\"dataframe\">\n",
       "  <thead>\n",
       "    <tr style=\"text-align: right;\">\n",
       "      <th></th>\n",
       "      <th>Unnamed: 0</th>\n",
       "      <th>Rep.A</th>\n",
       "      <th>Data transakcji</th>\n",
       "      <th>Dzielnica</th>\n",
       "      <th>Obręb</th>\n",
       "      <th>Ulica</th>\n",
       "      <th>Nr bud.</th>\n",
       "      <th>Nr lok.</th>\n",
       "      <th>Kond.</th>\n",
       "      <th>P.u.   [m2]</th>\n",
       "      <th>...</th>\n",
       "      <th>Cena dodatkowych składników [zł]</th>\n",
       "      <th>RAZEM</th>\n",
       "      <th>Cena jedn. razem [zł/m2]</th>\n",
       "      <th>Izby</th>\n",
       "      <th>Opis</th>\n",
       "      <th>Rodzaj prawa do lokalu</th>\n",
       "      <th>Rodzaj rynku</th>\n",
       "      <th>Źródło danych</th>\n",
       "      <th>Data wpisu</th>\n",
       "      <th>Unnamed: 22</th>\n",
       "    </tr>\n",
       "  </thead>\n",
       "  <tbody>\n",
       "    <tr>\n",
       "      <th>0</th>\n",
       "      <td>NaN</td>\n",
       "      <td>158</td>\n",
       "      <td>2018-01-08 00:00:00</td>\n",
       "      <td>Śródmieście</td>\n",
       "      <td>5-04-06</td>\n",
       "      <td>Tamka</td>\n",
       "      <td>22/24</td>\n",
       "      <td>36</td>\n",
       "      <td>2</td>\n",
       "      <td>10.3</td>\n",
       "      <td>...</td>\n",
       "      <td>NaN</td>\n",
       "      <td>82400.0</td>\n",
       "      <td>8000</td>\n",
       "      <td>1</td>\n",
       "      <td>NaN</td>\n",
       "      <td>NaN</td>\n",
       "      <td>wtórny</td>\n",
       "      <td>BGiKU m.st. Warszawy</td>\n",
       "      <td>maj 2018</td>\n",
       "      <td>NaN</td>\n",
       "    </tr>\n",
       "    <tr>\n",
       "      <th>1</th>\n",
       "      <td>NaN</td>\n",
       "      <td>21818</td>\n",
       "      <td>2020-08-06 00:00:00</td>\n",
       "      <td>Śródmieście</td>\n",
       "      <td>5-04-06</td>\n",
       "      <td>Tamka</td>\n",
       "      <td>22/24</td>\n",
       "      <td>12</td>\n",
       "      <td>1</td>\n",
       "      <td>11.39</td>\n",
       "      <td>...</td>\n",
       "      <td>NaN</td>\n",
       "      <td>130000.0</td>\n",
       "      <td>11413.5</td>\n",
       "      <td>1</td>\n",
       "      <td>NaN</td>\n",
       "      <td>własność</td>\n",
       "      <td>wtórny</td>\n",
       "      <td>BGiKU m.st. Warszawy</td>\n",
       "      <td>listopad 2020</td>\n",
       "      <td>NaN</td>\n",
       "    </tr>\n",
       "    <tr>\n",
       "      <th>2</th>\n",
       "      <td>NaN</td>\n",
       "      <td>24977</td>\n",
       "      <td>2020-08-27 00:00:00</td>\n",
       "      <td>Śródmieście</td>\n",
       "      <td>5-04-06</td>\n",
       "      <td>Tamka</td>\n",
       "      <td>22/24</td>\n",
       "      <td>12</td>\n",
       "      <td>1</td>\n",
       "      <td>11.39</td>\n",
       "      <td>...</td>\n",
       "      <td>NaN</td>\n",
       "      <td>175000.0</td>\n",
       "      <td>15364.4</td>\n",
       "      <td>1</td>\n",
       "      <td>NaN</td>\n",
       "      <td>własność</td>\n",
       "      <td>wtórny</td>\n",
       "      <td>BGiKU m.st. Warszawy</td>\n",
       "      <td>listopad 2020</td>\n",
       "      <td>NaN</td>\n",
       "    </tr>\n",
       "    <tr>\n",
       "      <th>3</th>\n",
       "      <td>NaN</td>\n",
       "      <td>2143</td>\n",
       "      <td>2019-03-21 00:00:00</td>\n",
       "      <td>Wola</td>\n",
       "      <td>6-01-05</td>\n",
       "      <td>Waliców</td>\n",
       "      <td>17</td>\n",
       "      <td>23</td>\n",
       "      <td>5</td>\n",
       "      <td>12.1</td>\n",
       "      <td>...</td>\n",
       "      <td>NaN</td>\n",
       "      <td>182000.0</td>\n",
       "      <td>15041.3</td>\n",
       "      <td>1</td>\n",
       "      <td>NaN</td>\n",
       "      <td>własność</td>\n",
       "      <td>wtórny</td>\n",
       "      <td>BGiKU m.st. Warszawy</td>\n",
       "      <td>wrzesień 2019</td>\n",
       "      <td>NaN</td>\n",
       "    </tr>\n",
       "    <tr>\n",
       "      <th>4</th>\n",
       "      <td>NaN</td>\n",
       "      <td>2678</td>\n",
       "      <td>2017-06-29 00:00:00</td>\n",
       "      <td>Śródmieście</td>\n",
       "      <td>5-02-08</td>\n",
       "      <td>Miodowa</td>\n",
       "      <td>20</td>\n",
       "      <td>13</td>\n",
       "      <td>4</td>\n",
       "      <td>13.48</td>\n",
       "      <td>...</td>\n",
       "      <td>NaN</td>\n",
       "      <td>100000.0</td>\n",
       "      <td>7418.4</td>\n",
       "      <td>2</td>\n",
       "      <td>Wa4M/00147202/3</td>\n",
       "      <td>NaN</td>\n",
       "      <td>wtórny</td>\n",
       "      <td>BGiKU m.st. Warszawy</td>\n",
       "      <td>sierpnień 2017</td>\n",
       "      <td>NaN</td>\n",
       "    </tr>\n",
       "  </tbody>\n",
       "</table>\n",
       "<p>5 rows × 23 columns</p>\n",
       "</div>"
      ],
      "text/plain": [
       "  Unnamed: 0  Rep.A      Data transakcji    Dzielnica    Obręb    Ulica  \\\n",
       "0        NaN    158  2018-01-08 00:00:00  Śródmieście  5-04-06    Tamka   \n",
       "1        NaN  21818  2020-08-06 00:00:00  Śródmieście  5-04-06    Tamka   \n",
       "2        NaN  24977  2020-08-27 00:00:00  Śródmieście  5-04-06    Tamka   \n",
       "3        NaN   2143  2019-03-21 00:00:00         Wola  6-01-05  Waliców   \n",
       "4        NaN   2678  2017-06-29 00:00:00  Śródmieście  5-02-08  Miodowa   \n",
       "\n",
       "  Nr bud. Nr lok. Kond. P.u.   [m2]  ... Cena dodatkowych składników [zł]  \\\n",
       "0   22/24      36     2        10.3  ...                              NaN   \n",
       "1   22/24      12     1       11.39  ...                              NaN   \n",
       "2   22/24      12     1       11.39  ...                              NaN   \n",
       "3      17      23     5        12.1  ...                              NaN   \n",
       "4      20      13     4       13.48  ...                              NaN   \n",
       "\n",
       "      RAZEM Cena jedn. razem [zł/m2] Izby             Opis  \\\n",
       "0   82400.0                     8000    1              NaN   \n",
       "1  130000.0                  11413.5    1              NaN   \n",
       "2  175000.0                  15364.4    1              NaN   \n",
       "3  182000.0                  15041.3    1              NaN   \n",
       "4  100000.0                   7418.4    2  Wa4M/00147202/3   \n",
       "\n",
       "  Rodzaj prawa do lokalu Rodzaj rynku         Źródło danych      Data wpisu  \\\n",
       "0                    NaN       wtórny  BGiKU m.st. Warszawy        maj 2018   \n",
       "1               własność       wtórny  BGiKU m.st. Warszawy   listopad 2020   \n",
       "2               własność       wtórny  BGiKU m.st. Warszawy   listopad 2020   \n",
       "3               własność       wtórny  BGiKU m.st. Warszawy   wrzesień 2019   \n",
       "4                    NaN       wtórny  BGiKU m.st. Warszawy  sierpnień 2017   \n",
       "\n",
       "  Unnamed: 22  \n",
       "0         NaN  \n",
       "1         NaN  \n",
       "2         NaN  \n",
       "3         NaN  \n",
       "4         NaN  \n",
       "\n",
       "[5 rows x 23 columns]"
      ]
     },
     "execution_count": 3,
     "metadata": {},
     "output_type": "execute_result"
    }
   ],
   "source": [
    "file = pd.read_excel('test.xls')\n",
    "file.head()"
   ]
  },
  {
   "cell_type": "code",
   "execution_count": 4,
   "metadata": {},
   "outputs": [
    {
     "data": {
      "text/html": [
       "<div>\n",
       "<style scoped>\n",
       "    .dataframe tbody tr th:only-of-type {\n",
       "        vertical-align: middle;\n",
       "    }\n",
       "\n",
       "    .dataframe tbody tr th {\n",
       "        vertical-align: top;\n",
       "    }\n",
       "\n",
       "    .dataframe thead th {\n",
       "        text-align: right;\n",
       "    }\n",
       "</style>\n",
       "<table border=\"1\" class=\"dataframe\">\n",
       "  <thead>\n",
       "    <tr style=\"text-align: right;\">\n",
       "      <th></th>\n",
       "      <th>RAZEM</th>\n",
       "    </tr>\n",
       "  </thead>\n",
       "  <tbody>\n",
       "    <tr>\n",
       "      <th>count</th>\n",
       "      <td>4.963000e+03</td>\n",
       "    </tr>\n",
       "    <tr>\n",
       "      <th>mean</th>\n",
       "      <td>7.595548e+05</td>\n",
       "    </tr>\n",
       "    <tr>\n",
       "      <th>std</th>\n",
       "      <td>6.832976e+05</td>\n",
       "    </tr>\n",
       "    <tr>\n",
       "      <th>min</th>\n",
       "      <td>5.000000e+04</td>\n",
       "    </tr>\n",
       "    <tr>\n",
       "      <th>25%</th>\n",
       "      <td>4.150000e+05</td>\n",
       "    </tr>\n",
       "    <tr>\n",
       "      <th>50%</th>\n",
       "      <td>5.750000e+05</td>\n",
       "    </tr>\n",
       "    <tr>\n",
       "      <th>75%</th>\n",
       "      <td>8.300000e+05</td>\n",
       "    </tr>\n",
       "    <tr>\n",
       "      <th>max</th>\n",
       "      <td>1.320000e+07</td>\n",
       "    </tr>\n",
       "  </tbody>\n",
       "</table>\n",
       "</div>"
      ],
      "text/plain": [
       "              RAZEM\n",
       "count  4.963000e+03\n",
       "mean   7.595548e+05\n",
       "std    6.832976e+05\n",
       "min    5.000000e+04\n",
       "25%    4.150000e+05\n",
       "50%    5.750000e+05\n",
       "75%    8.300000e+05\n",
       "max    1.320000e+07"
      ]
     },
     "execution_count": 4,
     "metadata": {},
     "output_type": "execute_result"
    }
   ],
   "source": [
    "file.describe()"
   ]
  },
  {
   "cell_type": "code",
   "execution_count": 5,
   "metadata": {},
   "outputs": [
    {
     "data": {
      "text/plain": [
       "Unnamed: 0                           object\n",
       "Rep.A                                object\n",
       "Data transakcji                      object\n",
       " Dzielnica                           object\n",
       "Obręb                                object\n",
       "Ulica                                object\n",
       "Nr bud.                              object\n",
       "Nr lok.                              object\n",
       "Kond.                                object\n",
       "P.u.   [m2]                          object\n",
       "Cena trans. [zł]                     object\n",
       "Cena jedn. [zł/m2]                   object\n",
       "Dodatkowe składniki                  object\n",
       "Cena dodatkowych składników [zł]     object\n",
       "RAZEM                               float64\n",
       "Cena jedn. razem [zł/m2]             object\n",
       "Izby                                 object\n",
       "Opis                                 object\n",
       "Rodzaj prawa do lokalu               object\n",
       "Rodzaj rynku                         object\n",
       "Źródło danych                        object\n",
       "Data wpisu                           object\n",
       "Unnamed: 22                          object\n",
       "dtype: object"
      ]
     },
     "execution_count": 5,
     "metadata": {},
     "output_type": "execute_result"
    }
   ],
   "source": [
    "file.dtypes"
   ]
  },
  {
   "cell_type": "code",
   "execution_count": 6,
   "metadata": {},
   "outputs": [],
   "source": [
    "raw = file.copy().drop(['Unnamed: 0', 'Rep.A', 'Obręb', 'Cena trans. [zł]', \n",
    "                       'Cena jedn. [zł/m2]','Cena dodatkowych składników [zł]',\n",
    "                       'Cena jedn. razem [zł/m2]','Opis','Źródło danych','Data wpisu','Unnamed: 22'], axis = 1)"
   ]
  },
  {
   "cell_type": "code",
   "execution_count": 7,
   "metadata": {},
   "outputs": [
    {
     "data": {
      "text/plain": [
       "array([nan, 'własność', 'swpl', 'spółdzielcze'], dtype=object)"
      ]
     },
     "execution_count": 7,
     "metadata": {},
     "output_type": "execute_result"
    }
   ],
   "source": [
    "raw['Rodzaj prawa do lokalu'].unique()"
   ]
  },
  {
   "cell_type": "code",
   "execution_count": 8,
   "metadata": {},
   "outputs": [],
   "source": [
    "raw.drop('Rodzaj prawa do lokalu', axis=1, inplace=True)"
   ]
  },
  {
   "cell_type": "code",
   "execution_count": 9,
   "metadata": {},
   "outputs": [],
   "source": [
    "df = raw[raw['RAZEM'].notna()]\n",
    "df = df[df['Izby'].notna()]"
   ]
  },
  {
   "cell_type": "code",
   "execution_count": 10,
   "metadata": {},
   "outputs": [],
   "source": [
    "df['Data transakcji'] = pd.to_datetime(df['Data transakcji']) "
   ]
  },
  {
   "cell_type": "markdown",
   "metadata": {},
   "source": [
    "## Checking floor level and converting to 0/1 for non-groundfloor false/true"
   ]
  },
  {
   "cell_type": "code",
   "execution_count": 13,
   "metadata": {},
   "outputs": [
    {
     "data": {
      "text/plain": [
       "array([4, 5, 17, 10, 9, 6, 1, 2, 18, 3, 7, 8, 12, 15, 13, 11, 16, 14,\n",
       "       'bd', 21, 20, nan, 'suterena', '17 (12 piętro)', 39, 22, 41, 24,\n",
       "       '5 i 6', 28, 'antresola', '4 i 5', '4i5', '5i6',\n",
       "       '9 kond (6 piętro)', 19, 42, 25, 'poddasze', 23,\n",
       "       'półsuterena (kondygnacja dodatkowa)', 34, 33, 52, 36, 27, 45, 38,\n",
       "       29, '7 i 8', '1', 32, 'brak danych, w KW też', '4 k(2p)', 'parter',\n",
       "       '4 kond.(2piętro)', '4 + strych', '5 kodnygnacja, 2 piętro',\n",
       "       '11 i 12', '8 i 9 k.', '3 i 4', 37, '13k (8 piętro)',\n",
       "       '35k/30 piętro', 30, '2 i 3', 35], dtype=object)"
      ]
     },
     "execution_count": 13,
     "metadata": {},
     "output_type": "execute_result"
    }
   ],
   "source": [
    "df['Kond.'].unique()"
   ]
  },
  {
   "cell_type": "code",
   "execution_count": 14,
   "metadata": {},
   "outputs": [
    {
     "name": "stderr",
     "output_type": "stream",
     "text": [
      "D:\\Programowanie\\Anaconda\\lib\\site-packages\\pandas\\core\\indexing.py:670: SettingWithCopyWarning: \n",
      "A value is trying to be set on a copy of a slice from a DataFrame\n",
      "\n",
      "See the caveats in the documentation: https://pandas.pydata.org/pandas-docs/stable/user_guide/indexing.html#returning-a-view-versus-a-copy\n",
      "  iloc._setitem_with_indexer(indexer, value)\n"
     ]
    }
   ],
   "source": [
    "df['Kond.'].loc[df['Kond.'] =='parter'] = 0\n",
    "df['Kond.'].loc[df['Kond.'] =='półsuterena (kondygnacja dodatkowa)'] = 0\n",
    "df['Kond.'].loc[df['Kond.'] =='suterena'] = 0"
   ]
  },
  {
   "cell_type": "code",
   "execution_count": 15,
   "metadata": {},
   "outputs": [],
   "source": [
    "df['Kond.'].loc[df['Kond.']!=0] = 1"
   ]
  },
  {
   "cell_type": "markdown",
   "metadata": {},
   "source": [
    "## Creating full address column for geolocation"
   ]
  },
  {
   "cell_type": "code",
   "execution_count": 16,
   "metadata": {},
   "outputs": [
    {
     "data": {
      "text/html": [
       "<div>\n",
       "<style scoped>\n",
       "    .dataframe tbody tr th:only-of-type {\n",
       "        vertical-align: middle;\n",
       "    }\n",
       "\n",
       "    .dataframe tbody tr th {\n",
       "        vertical-align: top;\n",
       "    }\n",
       "\n",
       "    .dataframe thead th {\n",
       "        text-align: right;\n",
       "    }\n",
       "</style>\n",
       "<table border=\"1\" class=\"dataframe\">\n",
       "  <thead>\n",
       "    <tr style=\"text-align: right;\">\n",
       "      <th></th>\n",
       "      <th>Data transakcji</th>\n",
       "      <th>Dzielnica</th>\n",
       "      <th>Ulica</th>\n",
       "      <th>Nr bud.</th>\n",
       "      <th>Nr lok.</th>\n",
       "      <th>Kond.</th>\n",
       "      <th>P.u.   [m2]</th>\n",
       "      <th>Dodatkowe składniki</th>\n",
       "      <th>RAZEM</th>\n",
       "      <th>Izby</th>\n",
       "      <th>Rodzaj rynku</th>\n",
       "      <th>Full_address</th>\n",
       "    </tr>\n",
       "  </thead>\n",
       "  <tbody>\n",
       "    <tr>\n",
       "      <th>0</th>\n",
       "      <td>2017-08-29</td>\n",
       "      <td>Śródmieście</td>\n",
       "      <td>29-go Listopada</td>\n",
       "      <td>3</td>\n",
       "      <td>14</td>\n",
       "      <td>1</td>\n",
       "      <td>27.78</td>\n",
       "      <td>NaN</td>\n",
       "      <td>220000</td>\n",
       "      <td>2</td>\n",
       "      <td>wtórny</td>\n",
       "      <td>29-go Listopada 3, Warsaw, Poland</td>\n",
       "    </tr>\n",
       "    <tr>\n",
       "      <th>2</th>\n",
       "      <td>2017-08-11</td>\n",
       "      <td>Śródmieście</td>\n",
       "      <td>Al. Armii Ludowej</td>\n",
       "      <td>6</td>\n",
       "      <td>105</td>\n",
       "      <td>1</td>\n",
       "      <td>50.87</td>\n",
       "      <td>NaN</td>\n",
       "      <td>540000</td>\n",
       "      <td>3</td>\n",
       "      <td>wtórny</td>\n",
       "      <td>Al. Armii Ludowej 6, Warsaw, Poland</td>\n",
       "    </tr>\n",
       "    <tr>\n",
       "      <th>3</th>\n",
       "      <td>2017-08-31</td>\n",
       "      <td>Śródmieście</td>\n",
       "      <td>Al. Jana Pawła II</td>\n",
       "      <td>80</td>\n",
       "      <td>86</td>\n",
       "      <td>1</td>\n",
       "      <td>49.9</td>\n",
       "      <td>NaN</td>\n",
       "      <td>560000</td>\n",
       "      <td>3</td>\n",
       "      <td>wtórny</td>\n",
       "      <td>Al. Jana Pawła II 80, Warsaw, Poland</td>\n",
       "    </tr>\n",
       "    <tr>\n",
       "      <th>4</th>\n",
       "      <td>2017-09-01</td>\n",
       "      <td>Śródmieście</td>\n",
       "      <td>Al. Jana Pawła II</td>\n",
       "      <td>80</td>\n",
       "      <td>20</td>\n",
       "      <td>1</td>\n",
       "      <td>52.5</td>\n",
       "      <td>mpgp</td>\n",
       "      <td>565000</td>\n",
       "      <td>2</td>\n",
       "      <td>wtórny</td>\n",
       "      <td>Al. Jana Pawła II 80, Warsaw, Poland</td>\n",
       "    </tr>\n",
       "    <tr>\n",
       "      <th>5</th>\n",
       "      <td>2017-09-07</td>\n",
       "      <td>Śródmieście</td>\n",
       "      <td>Al. Jana Pawła II</td>\n",
       "      <td>26</td>\n",
       "      <td>813</td>\n",
       "      <td>1</td>\n",
       "      <td>38.8</td>\n",
       "      <td>NaN</td>\n",
       "      <td>380000</td>\n",
       "      <td>2</td>\n",
       "      <td>wtórny</td>\n",
       "      <td>Al. Jana Pawła II 26, Warsaw, Poland</td>\n",
       "    </tr>\n",
       "  </tbody>\n",
       "</table>\n",
       "</div>"
      ],
      "text/plain": [
       "  Data transakcji    Dzielnica              Ulica Nr bud. Nr lok. Kond.  \\\n",
       "0      2017-08-29  Śródmieście    29-go Listopada       3      14     1   \n",
       "2      2017-08-11  Śródmieście  Al. Armii Ludowej       6     105     1   \n",
       "3      2017-08-31  Śródmieście  Al. Jana Pawła II      80      86     1   \n",
       "4      2017-09-01  Śródmieście  Al. Jana Pawła II      80      20     1   \n",
       "5      2017-09-07  Śródmieście  Al. Jana Pawła II      26     813     1   \n",
       "\n",
       "  P.u.   [m2] Dodatkowe składniki   RAZEM Izby Rodzaj rynku  \\\n",
       "0       27.78                 NaN  220000    2       wtórny   \n",
       "2       50.87                 NaN  540000    3       wtórny   \n",
       "3        49.9                 NaN  560000    3       wtórny   \n",
       "4        52.5                mpgp  565000    2       wtórny   \n",
       "5        38.8                 NaN  380000    2       wtórny   \n",
       "\n",
       "                           Full_address  \n",
       "0     29-go Listopada 3, Warsaw, Poland  \n",
       "2   Al. Armii Ludowej 6, Warsaw, Poland  \n",
       "3  Al. Jana Pawła II 80, Warsaw, Poland  \n",
       "4  Al. Jana Pawła II 80, Warsaw, Poland  \n",
       "5  Al. Jana Pawła II 26, Warsaw, Poland  "
      ]
     },
     "execution_count": 16,
     "metadata": {},
     "output_type": "execute_result"
    }
   ],
   "source": [
    "df['Full_address'] = df[df.columns[2:4]].apply(lambda x: ' '.join(x.dropna().astype(str)),axis=1)\n",
    "df['Full_address'] = df['Full_address'].astype(str) + ', Warsaw, Poland'\n",
    "df.head()"
   ]
  },
  {
   "cell_type": "code",
   "execution_count": 17,
   "metadata": {},
   "outputs": [],
   "source": [
    "df1 = df.copy()"
   ]
  },
  {
   "cell_type": "code",
   "execution_count": 18,
   "metadata": {},
   "outputs": [
    {
     "data": {
      "text/html": [
       "<div>\n",
       "<style scoped>\n",
       "    .dataframe tbody tr th:only-of-type {\n",
       "        vertical-align: middle;\n",
       "    }\n",
       "\n",
       "    .dataframe tbody tr th {\n",
       "        vertical-align: top;\n",
       "    }\n",
       "\n",
       "    .dataframe thead th {\n",
       "        text-align: right;\n",
       "    }\n",
       "</style>\n",
       "<table border=\"1\" class=\"dataframe\">\n",
       "  <thead>\n",
       "    <tr style=\"text-align: right;\">\n",
       "      <th></th>\n",
       "      <th>Data transakcji</th>\n",
       "      <th>Dzielnica</th>\n",
       "      <th>Ulica</th>\n",
       "      <th>Nr bud.</th>\n",
       "      <th>Nr lok.</th>\n",
       "      <th>Kond.</th>\n",
       "      <th>P.u.   [m2]</th>\n",
       "      <th>Dodatkowe składniki</th>\n",
       "      <th>RAZEM</th>\n",
       "      <th>Izby</th>\n",
       "      <th>Rodzaj rynku</th>\n",
       "      <th>Full_address</th>\n",
       "    </tr>\n",
       "  </thead>\n",
       "  <tbody>\n",
       "    <tr>\n",
       "      <th>0</th>\n",
       "      <td>2017-08-29</td>\n",
       "      <td>Śródmieście</td>\n",
       "      <td>29-go Listopada</td>\n",
       "      <td>3</td>\n",
       "      <td>14</td>\n",
       "      <td>1</td>\n",
       "      <td>27.78</td>\n",
       "      <td>NaN</td>\n",
       "      <td>220000</td>\n",
       "      <td>2</td>\n",
       "      <td>wtórny</td>\n",
       "      <td>29-go Listopada 3, Warsaw, Poland</td>\n",
       "    </tr>\n",
       "    <tr>\n",
       "      <th>2</th>\n",
       "      <td>2017-08-11</td>\n",
       "      <td>Śródmieście</td>\n",
       "      <td>Al. Armii Ludowej</td>\n",
       "      <td>6</td>\n",
       "      <td>105</td>\n",
       "      <td>1</td>\n",
       "      <td>50.87</td>\n",
       "      <td>NaN</td>\n",
       "      <td>540000</td>\n",
       "      <td>3</td>\n",
       "      <td>wtórny</td>\n",
       "      <td>Al. Armii Ludowej 6, Warsaw, Poland</td>\n",
       "    </tr>\n",
       "    <tr>\n",
       "      <th>3</th>\n",
       "      <td>2017-08-31</td>\n",
       "      <td>Śródmieście</td>\n",
       "      <td>Al. Jana Pawła II</td>\n",
       "      <td>80</td>\n",
       "      <td>86</td>\n",
       "      <td>1</td>\n",
       "      <td>49.9</td>\n",
       "      <td>NaN</td>\n",
       "      <td>560000</td>\n",
       "      <td>3</td>\n",
       "      <td>wtórny</td>\n",
       "      <td>Al. Jana Pawła II 80, Warsaw, Poland</td>\n",
       "    </tr>\n",
       "    <tr>\n",
       "      <th>4</th>\n",
       "      <td>2017-09-01</td>\n",
       "      <td>Śródmieście</td>\n",
       "      <td>Al. Jana Pawła II</td>\n",
       "      <td>80</td>\n",
       "      <td>20</td>\n",
       "      <td>1</td>\n",
       "      <td>52.5</td>\n",
       "      <td>mpgp</td>\n",
       "      <td>565000</td>\n",
       "      <td>2</td>\n",
       "      <td>wtórny</td>\n",
       "      <td>Al. Jana Pawła II 80, Warsaw, Poland</td>\n",
       "    </tr>\n",
       "    <tr>\n",
       "      <th>5</th>\n",
       "      <td>2017-09-07</td>\n",
       "      <td>Śródmieście</td>\n",
       "      <td>Al. Jana Pawła II</td>\n",
       "      <td>26</td>\n",
       "      <td>813</td>\n",
       "      <td>1</td>\n",
       "      <td>38.8</td>\n",
       "      <td>NaN</td>\n",
       "      <td>380000</td>\n",
       "      <td>2</td>\n",
       "      <td>wtórny</td>\n",
       "      <td>Al. Jana Pawła II 26, Warsaw, Poland</td>\n",
       "    </tr>\n",
       "  </tbody>\n",
       "</table>\n",
       "</div>"
      ],
      "text/plain": [
       "  Data transakcji    Dzielnica              Ulica Nr bud. Nr lok. Kond.  \\\n",
       "0      2017-08-29  Śródmieście    29-go Listopada       3      14     1   \n",
       "2      2017-08-11  Śródmieście  Al. Armii Ludowej       6     105     1   \n",
       "3      2017-08-31  Śródmieście  Al. Jana Pawła II      80      86     1   \n",
       "4      2017-09-01  Śródmieście  Al. Jana Pawła II      80      20     1   \n",
       "5      2017-09-07  Śródmieście  Al. Jana Pawła II      26     813     1   \n",
       "\n",
       "  P.u.   [m2] Dodatkowe składniki   RAZEM Izby Rodzaj rynku  \\\n",
       "0       27.78                 NaN  220000    2       wtórny   \n",
       "2       50.87                 NaN  540000    3       wtórny   \n",
       "3        49.9                 NaN  560000    3       wtórny   \n",
       "4        52.5                mpgp  565000    2       wtórny   \n",
       "5        38.8                 NaN  380000    2       wtórny   \n",
       "\n",
       "                           Full_address  \n",
       "0     29-go Listopada 3, Warsaw, Poland  \n",
       "2   Al. Armii Ludowej 6, Warsaw, Poland  \n",
       "3  Al. Jana Pawła II 80, Warsaw, Poland  \n",
       "4  Al. Jana Pawła II 80, Warsaw, Poland  \n",
       "5  Al. Jana Pawła II 26, Warsaw, Poland  "
      ]
     },
     "execution_count": 18,
     "metadata": {},
     "output_type": "execute_result"
    }
   ],
   "source": [
    "df1.head()"
   ]
  },
  {
   "cell_type": "code",
   "execution_count": 19,
   "metadata": {},
   "outputs": [],
   "source": [
    "df1.drop(['Ulica','Nr bud.','Nr lok.'],axis=1, inplace=True)"
   ]
  },
  {
   "cell_type": "markdown",
   "metadata": {},
   "source": [
    "## Checking for apartment extras and assigning 0/1"
   ]
  },
  {
   "cell_type": "code",
   "execution_count": 21,
   "metadata": {},
   "outputs": [
    {
     "name": "stderr",
     "output_type": "stream",
     "text": [
      "D:\\Programowanie\\Anaconda\\lib\\site-packages\\pandas\\core\\indexing.py:670: SettingWithCopyWarning: \n",
      "A value is trying to be set on a copy of a slice from a DataFrame\n",
      "\n",
      "See the caveats in the documentation: https://pandas.pydata.org/pandas-docs/stable/user_guide/indexing.html#returning-a-view-versus-a-copy\n",
      "  iloc._setitem_with_indexer(indexer, value)\n"
     ]
    }
   ],
   "source": [
    "# 0 if there are no extra components, 1 if there are\n",
    "df1['Dodatkowe składniki'].fillna(0)\n",
    "df1['Dodatkowe składniki'].loc[df1['Dodatkowe składniki']!=0] = 1"
   ]
  },
  {
   "cell_type": "markdown",
   "metadata": {},
   "source": [
    "## Checking if it's a new building and assigning 0/1"
   ]
  },
  {
   "cell_type": "code",
   "execution_count": 22,
   "metadata": {},
   "outputs": [
    {
     "data": {
      "text/plain": [
       "array(['wtórny'], dtype=object)"
      ]
     },
     "execution_count": 22,
     "metadata": {},
     "output_type": "execute_result"
    }
   ],
   "source": [
    "df1['Rodzaj rynku'].unique()"
   ]
  },
  {
   "cell_type": "code",
   "execution_count": 23,
   "metadata": {},
   "outputs": [],
   "source": [
    "# Rynek pierwotny - 1, rynek wtórny 0\n",
    "df1['Rodzaj rynku'].loc[df1['Rodzaj rynku']=='wtórny'] = 0\n",
    "df1['Rodzaj rynku'].loc[df1['Rodzaj rynku']!='wtórny'] = 1"
   ]
  },
  {
   "cell_type": "code",
   "execution_count": 26,
   "metadata": {},
   "outputs": [
    {
     "data": {
      "text/plain": [
       "0       True\n",
       "2       True\n",
       "3       True\n",
       "4       True\n",
       "5       True\n",
       "        ... \n",
       "4989    True\n",
       "4990    True\n",
       "4991    True\n",
       "4992    True\n",
       "4993    True\n",
       "Name: Izby, Length: 4815, dtype: bool"
      ]
     },
     "execution_count": 26,
     "metadata": {},
     "output_type": "execute_result"
    }
   ],
   "source": [
    "df2 = df1.copy()\n",
    "# df2['Izby'] == pd.to_numeric(df2['Izby'], 'coerce')"
   ]
  },
  {
   "cell_type": "code",
   "execution_count": 27,
   "metadata": {},
   "outputs": [
    {
     "name": "stderr",
     "output_type": "stream",
     "text": [
      "<ipython-input-27-77c0659fc2a8>:1: FutureWarning: Treating datetime data as categorical rather than numeric in `.describe` is deprecated and will be removed in a future version of pandas. Specify `datetime_is_numeric=True` to silence this warning and adopt the future behavior now.\n",
      "  df2.describe()\n"
     ]
    },
    {
     "data": {
      "text/html": [
       "<div>\n",
       "<style scoped>\n",
       "    .dataframe tbody tr th:only-of-type {\n",
       "        vertical-align: middle;\n",
       "    }\n",
       "\n",
       "    .dataframe tbody tr th {\n",
       "        vertical-align: top;\n",
       "    }\n",
       "\n",
       "    .dataframe thead th {\n",
       "        text-align: right;\n",
       "    }\n",
       "</style>\n",
       "<table border=\"1\" class=\"dataframe\">\n",
       "  <thead>\n",
       "    <tr style=\"text-align: right;\">\n",
       "      <th></th>\n",
       "      <th>Data transakcji</th>\n",
       "      <th>Dzielnica</th>\n",
       "      <th>Kond.</th>\n",
       "      <th>P.u.   [m2]</th>\n",
       "      <th>Dodatkowe składniki</th>\n",
       "      <th>RAZEM</th>\n",
       "      <th>Izby</th>\n",
       "      <th>Rynek pierwotny</th>\n",
       "      <th>Full_address</th>\n",
       "    </tr>\n",
       "  </thead>\n",
       "  <tbody>\n",
       "    <tr>\n",
       "      <th>count</th>\n",
       "      <td>4815</td>\n",
       "      <td>4815</td>\n",
       "      <td>4815.0</td>\n",
       "      <td>4815.0</td>\n",
       "      <td>4815.0</td>\n",
       "      <td>4815.0</td>\n",
       "      <td>4815.0</td>\n",
       "      <td>4815.0</td>\n",
       "      <td>4815</td>\n",
       "    </tr>\n",
       "    <tr>\n",
       "      <th>unique</th>\n",
       "      <td>1126</td>\n",
       "      <td>3</td>\n",
       "      <td>2.0</td>\n",
       "      <td>3016.0</td>\n",
       "      <td>1.0</td>\n",
       "      <td>1133.0</td>\n",
       "      <td>17.0</td>\n",
       "      <td>1.0</td>\n",
       "      <td>1516</td>\n",
       "    </tr>\n",
       "    <tr>\n",
       "      <th>top</th>\n",
       "      <td>2017-06-21 00:00:00</td>\n",
       "      <td>Śródmieście</td>\n",
       "      <td>1.0</td>\n",
       "      <td>26.7</td>\n",
       "      <td>1.0</td>\n",
       "      <td>500000.0</td>\n",
       "      <td>3.0</td>\n",
       "      <td>1.0</td>\n",
       "      <td>Pokorna 2, Warsaw, Poland</td>\n",
       "    </tr>\n",
       "    <tr>\n",
       "      <th>freq</th>\n",
       "      <td>14</td>\n",
       "      <td>4813</td>\n",
       "      <td>4809.0</td>\n",
       "      <td>36.0</td>\n",
       "      <td>4815.0</td>\n",
       "      <td>68.0</td>\n",
       "      <td>1750.0</td>\n",
       "      <td>4815.0</td>\n",
       "      <td>52</td>\n",
       "    </tr>\n",
       "    <tr>\n",
       "      <th>first</th>\n",
       "      <td>2017-01-02 00:00:00</td>\n",
       "      <td>NaN</td>\n",
       "      <td>NaN</td>\n",
       "      <td>NaN</td>\n",
       "      <td>NaN</td>\n",
       "      <td>NaN</td>\n",
       "      <td>NaN</td>\n",
       "      <td>NaN</td>\n",
       "      <td>NaN</td>\n",
       "    </tr>\n",
       "    <tr>\n",
       "      <th>last</th>\n",
       "      <td>2021-06-11 00:00:00</td>\n",
       "      <td>NaN</td>\n",
       "      <td>NaN</td>\n",
       "      <td>NaN</td>\n",
       "      <td>NaN</td>\n",
       "      <td>NaN</td>\n",
       "      <td>NaN</td>\n",
       "      <td>NaN</td>\n",
       "      <td>NaN</td>\n",
       "    </tr>\n",
       "  </tbody>\n",
       "</table>\n",
       "</div>"
      ],
      "text/plain": [
       "            Data transakcji    Dzielnica   Kond.  P.u.   [m2]  \\\n",
       "count                  4815         4815  4815.0       4815.0   \n",
       "unique                 1126            3     2.0       3016.0   \n",
       "top     2017-06-21 00:00:00  Śródmieście     1.0         26.7   \n",
       "freq                     14         4813  4809.0         36.0   \n",
       "first   2017-01-02 00:00:00          NaN     NaN          NaN   \n",
       "last    2021-06-11 00:00:00          NaN     NaN          NaN   \n",
       "\n",
       "        Dodatkowe składniki     RAZEM    Izby  Rynek pierwotny  \\\n",
       "count                4815.0    4815.0  4815.0           4815.0   \n",
       "unique                  1.0    1133.0    17.0              1.0   \n",
       "top                     1.0  500000.0     3.0              1.0   \n",
       "freq                 4815.0      68.0  1750.0           4815.0   \n",
       "first                   NaN       NaN     NaN              NaN   \n",
       "last                    NaN       NaN     NaN              NaN   \n",
       "\n",
       "                     Full_address  \n",
       "count                        4815  \n",
       "unique                       1516  \n",
       "top     Pokorna 2, Warsaw, Poland  \n",
       "freq                           52  \n",
       "first                         NaN  \n",
       "last                          NaN  "
      ]
     },
     "execution_count": 27,
     "metadata": {},
     "output_type": "execute_result"
    }
   ],
   "source": [
    "df2.describe()"
   ]
  },
  {
   "cell_type": "markdown",
   "metadata": {},
   "source": [
    "## Changing date of sale to number of years between the sale and latest year"
   ]
  },
  {
   "cell_type": "code",
   "execution_count": 28,
   "metadata": {},
   "outputs": [],
   "source": [
    "df2['Rok sprzedaży'] = df['Data transakcji'].dt.year\n",
    "df2.drop('Data transakcji',axis=1,inplace=True)\n",
    "cur_year = 2021\n",
    "df2['Rok sprzedaży'] = df2['Rok sprzedaży'].apply(lambda x: cur_year - x)\n",
    "df2.rename(columns={'Rok sprzedaży': \"Sold_years_ago\"}, inplace=True)"
   ]
  },
  {
   "cell_type": "markdown",
   "metadata": {},
   "source": [
    "## Importing libraries and assigning geolocations to addresses"
   ]
  },
  {
   "cell_type": "code",
   "execution_count": 29,
   "metadata": {},
   "outputs": [],
   "source": [
    "import geopy\n",
    "from geopy.geocoders import Nominatim"
   ]
  },
  {
   "cell_type": "code",
   "execution_count": 30,
   "metadata": {},
   "outputs": [],
   "source": [
    "locator = Nominatim(user_agent='KKGeocoder')"
   ]
  },
  {
   "cell_type": "code",
   "execution_count": 31,
   "metadata": {},
   "outputs": [],
   "source": [
    "df2['Location'] = df2['Full_address'].apply(locator.geocode)"
   ]
  },
  {
   "cell_type": "code",
   "execution_count": 32,
   "metadata": {},
   "outputs": [],
   "source": [
    "# commented out not to replace good file\n",
    "# df2.to_csv('test_cleaned.csv')"
   ]
  },
  {
   "cell_type": "code",
   "execution_count": 112,
   "metadata": {},
   "outputs": [],
   "source": [
    "# df3 = pd.read_csv('Downloads/test_cleaned.csv')\n",
    "df3 = df2.copy()"
   ]
  },
  {
   "cell_type": "markdown",
   "metadata": {},
   "source": [
    "## Extracting latitude and longitude from geolocation"
   ]
  },
  {
   "cell_type": "code",
   "execution_count": 113,
   "metadata": {},
   "outputs": [],
   "source": [
    "df3['LatLon'] = df3['Location'].apply(lambda loc: tuple(loc.point) if loc else None)"
   ]
  },
  {
   "cell_type": "code",
   "execution_count": 114,
   "metadata": {},
   "outputs": [
    {
     "data": {
      "text/html": [
       "<div>\n",
       "<style scoped>\n",
       "    .dataframe tbody tr th:only-of-type {\n",
       "        vertical-align: middle;\n",
       "    }\n",
       "\n",
       "    .dataframe tbody tr th {\n",
       "        vertical-align: top;\n",
       "    }\n",
       "\n",
       "    .dataframe thead th {\n",
       "        text-align: right;\n",
       "    }\n",
       "</style>\n",
       "<table border=\"1\" class=\"dataframe\">\n",
       "  <thead>\n",
       "    <tr style=\"text-align: right;\">\n",
       "      <th></th>\n",
       "      <th>Dzielnica</th>\n",
       "      <th>Kond.</th>\n",
       "      <th>P.u.   [m2]</th>\n",
       "      <th>Dodatkowe składniki</th>\n",
       "      <th>RAZEM</th>\n",
       "      <th>Izby</th>\n",
       "      <th>Rynek pierwotny</th>\n",
       "      <th>Full_address</th>\n",
       "      <th>Rok sprzedaży</th>\n",
       "      <th>Location</th>\n",
       "      <th>LatLon</th>\n",
       "    </tr>\n",
       "  </thead>\n",
       "  <tbody>\n",
       "    <tr>\n",
       "      <th>0</th>\n",
       "      <td>Śródmieście</td>\n",
       "      <td>1</td>\n",
       "      <td>27.78</td>\n",
       "      <td>1</td>\n",
       "      <td>220000</td>\n",
       "      <td>2</td>\n",
       "      <td>1</td>\n",
       "      <td>29-go Listopada 3, Warsaw, Poland</td>\n",
       "      <td>2017</td>\n",
       "      <td>None</td>\n",
       "      <td>None</td>\n",
       "    </tr>\n",
       "    <tr>\n",
       "      <th>2</th>\n",
       "      <td>Śródmieście</td>\n",
       "      <td>1</td>\n",
       "      <td>50.87</td>\n",
       "      <td>1</td>\n",
       "      <td>540000</td>\n",
       "      <td>3</td>\n",
       "      <td>1</td>\n",
       "      <td>Al. Armii Ludowej 6, Warsaw, Poland</td>\n",
       "      <td>2017</td>\n",
       "      <td>(6, Aleja Armii Ludowej, Latawiec, Śródmieście...</td>\n",
       "      <td>(52.21865745, 21.021245980597904, 0.0)</td>\n",
       "    </tr>\n",
       "    <tr>\n",
       "      <th>3</th>\n",
       "      <td>Śródmieście</td>\n",
       "      <td>1</td>\n",
       "      <td>49.9</td>\n",
       "      <td>1</td>\n",
       "      <td>560000</td>\n",
       "      <td>3</td>\n",
       "      <td>1</td>\n",
       "      <td>Al. Jana Pawła II 80, Warsaw, Poland</td>\n",
       "      <td>2017</td>\n",
       "      <td>(80, Aleja Jana Pawła II, Osiedle Stawki, Mura...</td>\n",
       "      <td>(52.2541215, 20.98471662915737, 0.0)</td>\n",
       "    </tr>\n",
       "    <tr>\n",
       "      <th>4</th>\n",
       "      <td>Śródmieście</td>\n",
       "      <td>1</td>\n",
       "      <td>52.5</td>\n",
       "      <td>1</td>\n",
       "      <td>565000</td>\n",
       "      <td>2</td>\n",
       "      <td>1</td>\n",
       "      <td>Al. Jana Pawła II 80, Warsaw, Poland</td>\n",
       "      <td>2017</td>\n",
       "      <td>(80, Aleja Jana Pawła II, Osiedle Stawki, Mura...</td>\n",
       "      <td>(52.2541215, 20.98471662915737, 0.0)</td>\n",
       "    </tr>\n",
       "    <tr>\n",
       "      <th>5</th>\n",
       "      <td>Śródmieście</td>\n",
       "      <td>1</td>\n",
       "      <td>38.8</td>\n",
       "      <td>1</td>\n",
       "      <td>380000</td>\n",
       "      <td>2</td>\n",
       "      <td>1</td>\n",
       "      <td>Al. Jana Pawła II 26, Warsaw, Poland</td>\n",
       "      <td>2017</td>\n",
       "      <td>(Żabka, 26, Aleja Jana Pawła II, Za Żelazną Br...</td>\n",
       "      <td>(52.2372785, 20.9972196, 0.0)</td>\n",
       "    </tr>\n",
       "  </tbody>\n",
       "</table>\n",
       "</div>"
      ],
      "text/plain": [
       "     Dzielnica Kond. P.u.   [m2] Dodatkowe składniki   RAZEM Izby  \\\n",
       "0  Śródmieście     1       27.78                   1  220000    2   \n",
       "2  Śródmieście     1       50.87                   1  540000    3   \n",
       "3  Śródmieście     1        49.9                   1  560000    3   \n",
       "4  Śródmieście     1        52.5                   1  565000    2   \n",
       "5  Śródmieście     1        38.8                   1  380000    2   \n",
       "\n",
       "  Rynek pierwotny                          Full_address  Rok sprzedaży  \\\n",
       "0               1     29-go Listopada 3, Warsaw, Poland           2017   \n",
       "2               1   Al. Armii Ludowej 6, Warsaw, Poland           2017   \n",
       "3               1  Al. Jana Pawła II 80, Warsaw, Poland           2017   \n",
       "4               1  Al. Jana Pawła II 80, Warsaw, Poland           2017   \n",
       "5               1  Al. Jana Pawła II 26, Warsaw, Poland           2017   \n",
       "\n",
       "                                            Location  \\\n",
       "0                                               None   \n",
       "2  (6, Aleja Armii Ludowej, Latawiec, Śródmieście...   \n",
       "3  (80, Aleja Jana Pawła II, Osiedle Stawki, Mura...   \n",
       "4  (80, Aleja Jana Pawła II, Osiedle Stawki, Mura...   \n",
       "5  (Żabka, 26, Aleja Jana Pawła II, Za Żelazną Br...   \n",
       "\n",
       "                                   LatLon  \n",
       "0                                    None  \n",
       "2  (52.21865745, 21.021245980597904, 0.0)  \n",
       "3    (52.2541215, 20.98471662915737, 0.0)  \n",
       "4    (52.2541215, 20.98471662915737, 0.0)  \n",
       "5           (52.2372785, 20.9972196, 0.0)  "
      ]
     },
     "execution_count": 114,
     "metadata": {},
     "output_type": "execute_result"
    }
   ],
   "source": [
    "df3.head()"
   ]
  },
  {
   "cell_type": "markdown",
   "metadata": {},
   "source": [
    "## Importing library and calculating distance between the apartment and city center (subway station)"
   ]
  },
  {
   "cell_type": "code",
   "execution_count": 115,
   "metadata": {},
   "outputs": [],
   "source": [
    "# !pip install haversine\n"
   ]
  },
  {
   "cell_type": "code",
   "execution_count": 37,
   "metadata": {},
   "outputs": [],
   "source": [
    "import haversine as hs"
   ]
  },
  {
   "cell_type": "code",
   "execution_count": 116,
   "metadata": {},
   "outputs": [],
   "source": [
    "metro_centrum_latlon = (52.133180, 21.002280)\n",
    "df3['Distance_to_center_m'] = df3['LatLon'].apply(lambda loc: hs.haversine(loc[1:], metro_centrum_latlon) if loc else None)"
   ]
  },
  {
   "cell_type": "code",
   "execution_count": 119,
   "metadata": {},
   "outputs": [],
   "source": [
    "df3.drop(['Location','LatLon', 'Full_address'],axis=1, inplace = True)"
   ]
  },
  {
   "cell_type": "markdown",
   "metadata": {},
   "source": [
    "## Converting columns to numeric for regression"
   ]
  },
  {
   "cell_type": "code",
   "execution_count": 122,
   "metadata": {},
   "outputs": [],
   "source": [
    "df3['Kond.'] = pd.to_numeric(df3['Kond.'],'coerce')\n",
    "df3['Area'] = pd.to_numeric(df3['P.u.   [m2]'], 'coerce')\n",
    "df3.drop('P.u.   [m2]',axis=1, inplace=True)\n",
    "df3['RAZEM'] = pd.to_numeric(df3['RAZEM'],'coerce')\n",
    "df3['Izby'] = pd.to_numeric(df3['Izby'],'coerce')\n",
    "df3['Kond.'] = pd.to_numeric(df3['Kond.'],'coerce')\n",
    "df3['New_building'] = pd.to_numeric(df3['Rodzaj'],'coerce')\n",
    "df3.drop('Rodzaj rynku', axis=1, inplace=True)\n",
    "df3['Extras'] = pd.to_numeric(df3['Dodatkowe składniki'],'coerce')\n",
    "df3.drop('Dodatkowe składniki', axis=1, inplace=True)"
   ]
  },
  {
   "cell_type": "code",
   "execution_count": 123,
   "metadata": {},
   "outputs": [],
   "source": [
    "df3['Suburb'] = df3[' Dzielnica']\n",
    "df3.drop(' Dzielnica', axis=1, inplace=True)"
   ]
  },
  {
   "cell_type": "code",
   "execution_count": 124,
   "metadata": {},
   "outputs": [
    {
     "data": {
      "text/plain": [
       "Kond.                     int64\n",
       "RAZEM                   float64\n",
       "Izby                    float64\n",
       "Sold_years_ago            int64\n",
       "Distance_to_center_m    float64\n",
       "Area                    float64\n",
       "New_building              int64\n",
       "Extras                    int64\n",
       "Suburb                   object\n",
       "dtype: object"
      ]
     },
     "execution_count": 124,
     "metadata": {},
     "output_type": "execute_result"
    }
   ],
   "source": [
    "df3.dtypes"
   ]
  },
  {
   "cell_type": "code",
   "execution_count": 125,
   "metadata": {},
   "outputs": [
    {
     "data": {
      "text/html": [
       "<div>\n",
       "<style scoped>\n",
       "    .dataframe tbody tr th:only-of-type {\n",
       "        vertical-align: middle;\n",
       "    }\n",
       "\n",
       "    .dataframe tbody tr th {\n",
       "        vertical-align: top;\n",
       "    }\n",
       "\n",
       "    .dataframe thead th {\n",
       "        text-align: right;\n",
       "    }\n",
       "</style>\n",
       "<table border=\"1\" class=\"dataframe\">\n",
       "  <thead>\n",
       "    <tr style=\"text-align: right;\">\n",
       "      <th></th>\n",
       "      <th>Kond.</th>\n",
       "      <th>RAZEM</th>\n",
       "      <th>Izby</th>\n",
       "      <th>Sold_years_ago</th>\n",
       "      <th>Distance_to_center_m</th>\n",
       "      <th>Area</th>\n",
       "      <th>New_building</th>\n",
       "      <th>Extras</th>\n",
       "      <th>Suburb</th>\n",
       "    </tr>\n",
       "  </thead>\n",
       "  <tbody>\n",
       "    <tr>\n",
       "      <th>0</th>\n",
       "      <td>1</td>\n",
       "      <td>220000.0</td>\n",
       "      <td>2.0</td>\n",
       "      <td>4</td>\n",
       "      <td>NaN</td>\n",
       "      <td>27.78</td>\n",
       "      <td>1</td>\n",
       "      <td>1</td>\n",
       "      <td>Śródmieście</td>\n",
       "    </tr>\n",
       "    <tr>\n",
       "      <th>2</th>\n",
       "      <td>1</td>\n",
       "      <td>540000.0</td>\n",
       "      <td>3.0</td>\n",
       "      <td>4</td>\n",
       "      <td>3903.559481</td>\n",
       "      <td>50.87</td>\n",
       "      <td>1</td>\n",
       "      <td>1</td>\n",
       "      <td>Śródmieście</td>\n",
       "    </tr>\n",
       "    <tr>\n",
       "      <th>3</th>\n",
       "      <td>1</td>\n",
       "      <td>560000.0</td>\n",
       "      <td>3.0</td>\n",
       "      <td>4</td>\n",
       "      <td>3907.312664</td>\n",
       "      <td>49.90</td>\n",
       "      <td>1</td>\n",
       "      <td>1</td>\n",
       "      <td>Śródmieście</td>\n",
       "    </tr>\n",
       "    <tr>\n",
       "      <th>4</th>\n",
       "      <td>1</td>\n",
       "      <td>565000.0</td>\n",
       "      <td>2.0</td>\n",
       "      <td>4</td>\n",
       "      <td>3907.312664</td>\n",
       "      <td>52.50</td>\n",
       "      <td>1</td>\n",
       "      <td>1</td>\n",
       "      <td>Śródmieście</td>\n",
       "    </tr>\n",
       "    <tr>\n",
       "      <th>5</th>\n",
       "      <td>1</td>\n",
       "      <td>380000.0</td>\n",
       "      <td>2.0</td>\n",
       "      <td>4</td>\n",
       "      <td>3906.027994</td>\n",
       "      <td>38.80</td>\n",
       "      <td>1</td>\n",
       "      <td>1</td>\n",
       "      <td>Śródmieście</td>\n",
       "    </tr>\n",
       "  </tbody>\n",
       "</table>\n",
       "</div>"
      ],
      "text/plain": [
       "   Kond.     RAZEM  Izby  Sold_years_ago  Distance_to_center_m   Area  \\\n",
       "0      1  220000.0   2.0               4                   NaN  27.78   \n",
       "2      1  540000.0   3.0               4           3903.559481  50.87   \n",
       "3      1  560000.0   3.0               4           3907.312664  49.90   \n",
       "4      1  565000.0   2.0               4           3907.312664  52.50   \n",
       "5      1  380000.0   2.0               4           3906.027994  38.80   \n",
       "\n",
       "   New_building  Extras       Suburb  \n",
       "0             1       1  Śródmieście  \n",
       "2             1       1  Śródmieście  \n",
       "3             1       1  Śródmieście  \n",
       "4             1       1  Śródmieście  \n",
       "5             1       1  Śródmieście  "
      ]
     },
     "execution_count": 125,
     "metadata": {},
     "output_type": "execute_result"
    }
   ],
   "source": [
    "df3.head()"
   ]
  },
  {
   "cell_type": "code",
   "execution_count": 126,
   "metadata": {},
   "outputs": [
    {
     "data": {
      "text/plain": [
       "array(['Śródmieście', 'Ochota', 'Wola'], dtype=object)"
      ]
     },
     "execution_count": 126,
     "metadata": {},
     "output_type": "execute_result"
    }
   ],
   "source": [
    "df3['Suburb'].unique()"
   ]
  },
  {
   "cell_type": "markdown",
   "metadata": {},
   "source": [
    "## Saving the work into csv file\n",
    "### Given geopy heavy calculations"
   ]
  },
  {
   "cell_type": "code",
   "execution_count": 12,
   "metadata": {},
   "outputs": [
    {
     "ename": "NameError",
     "evalue": "name 'df3' is not defined",
     "output_type": "error",
     "traceback": [
      "\u001b[1;31m---------------------------------------------------------------------------\u001b[0m",
      "\u001b[1;31mNameError\u001b[0m                                 Traceback (most recent call last)",
      "\u001b[1;32m<ipython-input-12-12ddaf4c325d>\u001b[0m in \u001b[0;36m<module>\u001b[1;34m\u001b[0m\n\u001b[1;32m----> 1\u001b[1;33m \u001b[0mdf3\u001b[0m\u001b[1;33m.\u001b[0m\u001b[0mto_csv\u001b[0m\u001b[1;33m(\u001b[0m\u001b[1;34m'ready_to_preprocess'\u001b[0m\u001b[1;33m)\u001b[0m\u001b[1;33m\u001b[0m\u001b[1;33m\u001b[0m\u001b[0m\n\u001b[0m",
      "\u001b[1;31mNameError\u001b[0m: name 'df3' is not defined"
     ]
    }
   ],
   "source": [
    "df3.to_csv('ready_to_preprocess')"
   ]
  },
  {
   "cell_type": "markdown",
   "metadata": {},
   "source": [
    "# Loading latest version for final preprocessing"
   ]
  },
  {
   "cell_type": "code",
   "execution_count": 107,
   "metadata": {},
   "outputs": [],
   "source": [
    "df4 = pd.read_csv('ready_to_preprocess')"
   ]
  },
  {
   "cell_type": "code",
   "execution_count": 108,
   "metadata": {},
   "outputs": [],
   "source": [
    "from sklearn.preprocessing import MinMaxScaler, OneHotEncoder\n",
    "# from sklearn.compose import make_column_transformer\n",
    "\n",
    "\n",
    "# transformer = make_column_transformer(\n",
    "#     (MinMaxScaler(), \n",
    "#         ['Izby', 'Area','Sold_years_ago', \n",
    "#          'Distance_to_center_m']),\n",
    "#     (OneHotEncoder(handle_unknown=['Suburb'])"
   ]
  },
  {
   "cell_type": "markdown",
   "metadata": {},
   "source": [
    "## Checking for outliers"
   ]
  },
  {
   "cell_type": "code",
   "execution_count": 109,
   "metadata": {},
   "outputs": [
    {
     "data": {
      "image/png": "[encoded data removed]",
      "text/plain": [
       "<Figure size 432x288 with 1 Axes>"
      ]
     },
     "metadata": {},
     "output_type": "display_data"
    }
   ],
   "source": [
    "plt.scatter(df4['RAZEM'],df4['Area'])\n",
    "plt.xlabel('Price', fontsize=20)\n",
    "plt.ylabel('Area', fontsize=20)\n",
    "plt.show()"
   ]
  },
  {
   "cell_type": "code",
   "execution_count": 110,
   "metadata": {},
   "outputs": [
    {
     "data": {
      "image/png": "[encoded data removed]",
      "text/plain": [
       "<Figure size 432x288 with 1 Axes>"
      ]
     },
     "metadata": {},
     "output_type": "display_data"
    }
   ],
   "source": [
    "plt.hist(df4['RAZEM'], bins=20)\n",
    "plt.show()"
   ]
  },
  {
   "cell_type": "code",
   "execution_count": 76,
   "metadata": {},
   "outputs": [
    {
     "data": {
      "text/plain": [
       "4796"
      ]
     },
     "execution_count": 76,
     "metadata": {},
     "output_type": "execute_result"
    }
   ],
   "source": [
    "df4[df4['RAZEM']<5500000].shape[0]"
   ]
  },
  {
   "cell_type": "code",
   "execution_count": 77,
   "metadata": {},
   "outputs": [
    {
     "data": {
      "text/plain": [
       "14"
      ]
     },
     "execution_count": 77,
     "metadata": {},
     "output_type": "execute_result"
    }
   ],
   "source": [
    "df4[df4['RAZEM']>=5500000].shape[0]"
   ]
  },
  {
   "cell_type": "code",
   "execution_count": 111,
   "metadata": {},
   "outputs": [],
   "source": [
    "df4 = df4[df4['RAZEM']<5500000]"
   ]
  },
  {
   "cell_type": "markdown",
   "metadata": {},
   "source": [
    "## Scaling and creating dummies \n",
    "### 3 options - StandardScaler or MinMaxScaler with suburb dummies or leave as is\n",
    "### Run only 1 cell"
   ]
  },
  {
   "cell_type": "markdown",
   "metadata": {},
   "source": [
    "## Option 1 StandardScaler"
   ]
  },
  {
   "cell_type": "code",
   "execution_count": 174,
   "metadata": {},
   "outputs": [
    {
     "data": {
      "text/html": [
       "<div>\n",
       "<style scoped>\n",
       "    .dataframe tbody tr th:only-of-type {\n",
       "        vertical-align: middle;\n",
       "    }\n",
       "\n",
       "    .dataframe tbody tr th {\n",
       "        vertical-align: top;\n",
       "    }\n",
       "\n",
       "    .dataframe thead th {\n",
       "        text-align: right;\n",
       "    }\n",
       "</style>\n",
       "<table border=\"1\" class=\"dataframe\">\n",
       "  <thead>\n",
       "    <tr style=\"text-align: right;\">\n",
       "      <th></th>\n",
       "      <th>RAZEM</th>\n",
       "      <th>Rooms</th>\n",
       "      <th>Area</th>\n",
       "      <th>Sold_years_ago</th>\n",
       "    </tr>\n",
       "  </thead>\n",
       "  <tbody>\n",
       "    <tr>\n",
       "      <th>0</th>\n",
       "      <td>220000.0</td>\n",
       "      <td>-0.789941</td>\n",
       "      <td>-0.945427</td>\n",
       "      <td>1.28597</td>\n",
       "    </tr>\n",
       "    <tr>\n",
       "      <th>1</th>\n",
       "      <td>540000.0</td>\n",
       "      <td>0.123113</td>\n",
       "      <td>-0.162004</td>\n",
       "      <td>1.28597</td>\n",
       "    </tr>\n",
       "    <tr>\n",
       "      <th>2</th>\n",
       "      <td>560000.0</td>\n",
       "      <td>0.123113</td>\n",
       "      <td>-0.194915</td>\n",
       "      <td>1.28597</td>\n",
       "    </tr>\n",
       "    <tr>\n",
       "      <th>3</th>\n",
       "      <td>565000.0</td>\n",
       "      <td>-0.789941</td>\n",
       "      <td>-0.106699</td>\n",
       "      <td>1.28597</td>\n",
       "    </tr>\n",
       "    <tr>\n",
       "      <th>4</th>\n",
       "      <td>380000.0</td>\n",
       "      <td>-0.789941</td>\n",
       "      <td>-0.571528</td>\n",
       "      <td>1.28597</td>\n",
       "    </tr>\n",
       "  </tbody>\n",
       "</table>\n",
       "</div>"
      ],
      "text/plain": [
       "      RAZEM     Rooms      Area  Sold_years_ago\n",
       "0  220000.0 -0.789941 -0.945427         1.28597\n",
       "1  540000.0  0.123113 -0.162004         1.28597\n",
       "2  560000.0  0.123113 -0.194915         1.28597\n",
       "3  565000.0 -0.789941 -0.106699         1.28597\n",
       "4  380000.0 -0.789941 -0.571528         1.28597"
      ]
     },
     "execution_count": 174,
     "metadata": {},
     "output_type": "execute_result"
    }
   ],
   "source": [
    "# # Scale (0 mean, std 1 => includes negatives)\n",
    "# # to_std = df4[['Izby', 'Area', 'Sold_years_ago', 'Distance_to_center_m']]\n",
    "# # scaled_inputs = pd.DataFrame(preprocessing.scale(to_std),columns=['Rooms','Area','Sold_years_ago','Distance_to_center_m'])\n",
    "# # pre_shuffled_data = pd.concat([df4[['RAZEM','Kond.','Extras','New_building']],scaled_inputs,suburb_dummies],axis=1)\n",
    "# #---------------------------------------------------------------------------------------\n",
    "# suburb_dummies = pd.get_dummies(df4['Suburb'])\n",
    "# #---------------------------------------------------------------------------------------\n",
    "# to_std = df4[['Izby', 'Area', 'Sold_years_ago']] #test with less inputs\n",
    "# scaled_inputs = pd.DataFrame(preprocessing.scale(to_std),columns=['Rooms','Area','Sold_years_ago'])\n",
    "# pre_shuffled_data = pd.concat([df4[['RAZEM']],scaled_inputs],axis=1) #test with less inputs\n",
    "# #---------------------------------------------------------------------------------------\n",
    "# pre_shuffled_data.head()"
   ]
  },
  {
   "cell_type": "markdown",
   "metadata": {},
   "source": [
    "## Option 2 MinMaxScaler"
   ]
  },
  {
   "cell_type": "code",
   "execution_count": 188,
   "metadata": {},
   "outputs": [],
   "source": [
    "# # # MinMaxScaler (Between 0 and 1 => only non-negatives)\n",
    "# scaler_1 = MinMaxScaler()\n",
    "# #----------------------------------------------------------------------------------------\n",
    "# # to_std = df4[['Izby', 'Area', 'Sold_years_ago', 'Distance_to_center_m']]\n",
    "# # scaled_inputs = pd.DataFrame(scaler_1.fit_transform(to_std),columns=['Rooms','Area','Sold_years_ago','Distance_to_center_m'])\n",
    "# # suburb_dummies = pd.get_dummies(df4['Suburb'])\n",
    "# # pre_shuffled_data = pd.concat([df4[['RAZEM','Kond.','Extras','New_building']],scaled_inputs,suburb_dummies],axis=1)\n",
    "# #----------------------------------------------------------------------------------------\n",
    "# to_std = df4[['Izby', 'Area', 'Sold_years_ago']]\n",
    "# scaled_inputs = pd.DataFrame(scaler_1.fit_transform(to_std),columns=['Rooms','Area','Sold_years_ago'])\n",
    "# suburb_dummies = pd.get_dummies(df4['Suburb'])\n",
    "# pre_shuffled_data = pd.concat([df4[['RAZEM']],scaled_inputs,suburb_dummies],axis=1)\n",
    "# # pre_shuffled_data.head()"
   ]
  },
  {
   "cell_type": "markdown",
   "metadata": {},
   "source": [
    "## Option 3 No change"
   ]
  },
  {
   "cell_type": "code",
   "execution_count": 244,
   "metadata": {},
   "outputs": [],
   "source": [
    "# suburb_dummies = pd.get_dummies(df4['Suburb'])\n",
    "# # pre_shuffled_data = df4[['RAZEM','Kond.','Extras','New_building','Izby','Area','Sold_years_ago','Distance_to_center_m']]\n",
    "# -------------------------------------------------------------------------------------------------\n",
    "pre_shuffled_data = df4[['RAZEM','Izby','Area','Sold_years_ago']] #test with less columns"
   ]
  },
  {
   "cell_type": "markdown",
   "metadata": {},
   "source": [
    "## Filling NaNs for Distance to city center with average"
   ]
  },
  {
   "cell_type": "code",
   "execution_count": 130,
   "metadata": {},
   "outputs": [
    {
     "ename": "KeyError",
     "evalue": "'Distance_to_center_m'",
     "output_type": "error",
     "traceback": [
      "\u001b[1;31m---------------------------------------------------------------------------\u001b[0m",
      "\u001b[1;31mKeyError\u001b[0m                                  Traceback (most recent call last)",
      "\u001b[1;32mD:\\Programowanie\\Anaconda\\lib\\site-packages\\pandas\\core\\indexes\\base.py\u001b[0m in \u001b[0;36mget_loc\u001b[1;34m(self, key, method, tolerance)\u001b[0m\n\u001b[0;32m   2894\u001b[0m             \u001b[1;32mtry\u001b[0m\u001b[1;33m:\u001b[0m\u001b[1;33m\u001b[0m\u001b[1;33m\u001b[0m\u001b[0m\n\u001b[1;32m-> 2895\u001b[1;33m                 \u001b[1;32mreturn\u001b[0m \u001b[0mself\u001b[0m\u001b[1;33m.\u001b[0m\u001b[0m_engine\u001b[0m\u001b[1;33m.\u001b[0m\u001b[0mget_loc\u001b[0m\u001b[1;33m(\u001b[0m\u001b[0mcasted_key\u001b[0m\u001b[1;33m)\u001b[0m\u001b[1;33m\u001b[0m\u001b[1;33m\u001b[0m\u001b[0m\n\u001b[0m\u001b[0;32m   2896\u001b[0m             \u001b[1;32mexcept\u001b[0m \u001b[0mKeyError\u001b[0m \u001b[1;32mas\u001b[0m \u001b[0merr\u001b[0m\u001b[1;33m:\u001b[0m\u001b[1;33m\u001b[0m\u001b[1;33m\u001b[0m\u001b[0m\n",
      "\u001b[1;32mpandas\\_libs\\index.pyx\u001b[0m in \u001b[0;36mpandas._libs.index.IndexEngine.get_loc\u001b[1;34m()\u001b[0m\n",
      "\u001b[1;32mpandas\\_libs\\index.pyx\u001b[0m in \u001b[0;36mpandas._libs.index.IndexEngine.get_loc\u001b[1;34m()\u001b[0m\n",
      "\u001b[1;32mpandas\\_libs\\hashtable_class_helper.pxi\u001b[0m in \u001b[0;36mpandas._libs.hashtable.PyObjectHashTable.get_item\u001b[1;34m()\u001b[0m\n",
      "\u001b[1;32mpandas\\_libs\\hashtable_class_helper.pxi\u001b[0m in \u001b[0;36mpandas._libs.hashtable.PyObjectHashTable.get_item\u001b[1;34m()\u001b[0m\n",
      "\u001b[1;31mKeyError\u001b[0m: 'Distance_to_center_m'",
      "\nThe above exception was the direct cause of the following exception:\n",
      "\u001b[1;31mKeyError\u001b[0m                                  Traceback (most recent call last)",
      "\u001b[1;32m<ipython-input-130-3eab9809e018>\u001b[0m in \u001b[0;36m<module>\u001b[1;34m\u001b[0m\n\u001b[1;32m----> 1\u001b[1;33m \u001b[0mavg_dist\u001b[0m \u001b[1;33m=\u001b[0m \u001b[0mpre_shuffled_data\u001b[0m\u001b[1;33m[\u001b[0m\u001b[1;34m'Distance_to_center_m'\u001b[0m\u001b[1;33m]\u001b[0m\u001b[1;33m.\u001b[0m\u001b[0mmean\u001b[0m\u001b[1;33m(\u001b[0m\u001b[1;33m)\u001b[0m\u001b[1;33m\u001b[0m\u001b[1;33m\u001b[0m\u001b[0m\n\u001b[0m\u001b[0;32m      2\u001b[0m \u001b[0mpre_shuffled_data\u001b[0m\u001b[1;33m[\u001b[0m\u001b[1;34m'Distance_to_center_m'\u001b[0m\u001b[1;33m]\u001b[0m\u001b[1;33m.\u001b[0m\u001b[0mfillna\u001b[0m\u001b[1;33m(\u001b[0m\u001b[0mavg_dist\u001b[0m\u001b[1;33m,\u001b[0m \u001b[0minplace\u001b[0m\u001b[1;33m=\u001b[0m\u001b[1;32mTrue\u001b[0m\u001b[1;33m)\u001b[0m\u001b[1;33m\u001b[0m\u001b[1;33m\u001b[0m\u001b[0m\n\u001b[0;32m      3\u001b[0m \u001b[0mpre_shuffled_data\u001b[0m\u001b[1;33m.\u001b[0m\u001b[0mhead\u001b[0m\u001b[1;33m(\u001b[0m\u001b[1;33m)\u001b[0m\u001b[1;33m\u001b[0m\u001b[1;33m\u001b[0m\u001b[0m\n",
      "\u001b[1;32mD:\\Programowanie\\Anaconda\\lib\\site-packages\\pandas\\core\\frame.py\u001b[0m in \u001b[0;36m__getitem__\u001b[1;34m(self, key)\u001b[0m\n\u001b[0;32m   2900\u001b[0m             \u001b[1;32mif\u001b[0m \u001b[0mself\u001b[0m\u001b[1;33m.\u001b[0m\u001b[0mcolumns\u001b[0m\u001b[1;33m.\u001b[0m\u001b[0mnlevels\u001b[0m \u001b[1;33m>\u001b[0m \u001b[1;36m1\u001b[0m\u001b[1;33m:\u001b[0m\u001b[1;33m\u001b[0m\u001b[1;33m\u001b[0m\u001b[0m\n\u001b[0;32m   2901\u001b[0m                 \u001b[1;32mreturn\u001b[0m \u001b[0mself\u001b[0m\u001b[1;33m.\u001b[0m\u001b[0m_getitem_multilevel\u001b[0m\u001b[1;33m(\u001b[0m\u001b[0mkey\u001b[0m\u001b[1;33m)\u001b[0m\u001b[1;33m\u001b[0m\u001b[1;33m\u001b[0m\u001b[0m\n\u001b[1;32m-> 2902\u001b[1;33m             \u001b[0mindexer\u001b[0m \u001b[1;33m=\u001b[0m \u001b[0mself\u001b[0m\u001b[1;33m.\u001b[0m\u001b[0mcolumns\u001b[0m\u001b[1;33m.\u001b[0m\u001b[0mget_loc\u001b[0m\u001b[1;33m(\u001b[0m\u001b[0mkey\u001b[0m\u001b[1;33m)\u001b[0m\u001b[1;33m\u001b[0m\u001b[1;33m\u001b[0m\u001b[0m\n\u001b[0m\u001b[0;32m   2903\u001b[0m             \u001b[1;32mif\u001b[0m \u001b[0mis_integer\u001b[0m\u001b[1;33m(\u001b[0m\u001b[0mindexer\u001b[0m\u001b[1;33m)\u001b[0m\u001b[1;33m:\u001b[0m\u001b[1;33m\u001b[0m\u001b[1;33m\u001b[0m\u001b[0m\n\u001b[0;32m   2904\u001b[0m                 \u001b[0mindexer\u001b[0m \u001b[1;33m=\u001b[0m \u001b[1;33m[\u001b[0m\u001b[0mindexer\u001b[0m\u001b[1;33m]\u001b[0m\u001b[1;33m\u001b[0m\u001b[1;33m\u001b[0m\u001b[0m\n",
      "\u001b[1;32mD:\\Programowanie\\Anaconda\\lib\\site-packages\\pandas\\core\\indexes\\base.py\u001b[0m in \u001b[0;36mget_loc\u001b[1;34m(self, key, method, tolerance)\u001b[0m\n\u001b[0;32m   2895\u001b[0m                 \u001b[1;32mreturn\u001b[0m \u001b[0mself\u001b[0m\u001b[1;33m.\u001b[0m\u001b[0m_engine\u001b[0m\u001b[1;33m.\u001b[0m\u001b[0mget_loc\u001b[0m\u001b[1;33m(\u001b[0m\u001b[0mcasted_key\u001b[0m\u001b[1;33m)\u001b[0m\u001b[1;33m\u001b[0m\u001b[1;33m\u001b[0m\u001b[0m\n\u001b[0;32m   2896\u001b[0m             \u001b[1;32mexcept\u001b[0m \u001b[0mKeyError\u001b[0m \u001b[1;32mas\u001b[0m \u001b[0merr\u001b[0m\u001b[1;33m:\u001b[0m\u001b[1;33m\u001b[0m\u001b[1;33m\u001b[0m\u001b[0m\n\u001b[1;32m-> 2897\u001b[1;33m                 \u001b[1;32mraise\u001b[0m \u001b[0mKeyError\u001b[0m\u001b[1;33m(\u001b[0m\u001b[0mkey\u001b[0m\u001b[1;33m)\u001b[0m \u001b[1;32mfrom\u001b[0m \u001b[0merr\u001b[0m\u001b[1;33m\u001b[0m\u001b[1;33m\u001b[0m\u001b[0m\n\u001b[0m\u001b[0;32m   2898\u001b[0m \u001b[1;33m\u001b[0m\u001b[0m\n\u001b[0;32m   2899\u001b[0m         \u001b[1;32mif\u001b[0m \u001b[0mtolerance\u001b[0m \u001b[1;32mis\u001b[0m \u001b[1;32mnot\u001b[0m \u001b[1;32mNone\u001b[0m\u001b[1;33m:\u001b[0m\u001b[1;33m\u001b[0m\u001b[1;33m\u001b[0m\u001b[0m\n",
      "\u001b[1;31mKeyError\u001b[0m: 'Distance_to_center_m'"
     ]
    }
   ],
   "source": [
    "avg_dist = pre_shuffled_data['Distance_to_center_m'].mean()\n",
    "pre_shuffled_data['Distance_to_center_m'].fillna(avg_dist, inplace=True)\n",
    "pre_shuffled_data.head()"
   ]
  },
  {
   "cell_type": "markdown",
   "metadata": {},
   "source": [
    "## Dropping NaNs and converting to Numpy array"
   ]
  },
  {
   "cell_type": "code",
   "execution_count": 245,
   "metadata": {},
   "outputs": [
    {
     "name": "stderr",
     "output_type": "stream",
     "text": [
      "<ipython-input-245-ea3d5b12ebc7>:1: SettingWithCopyWarning: \n",
      "A value is trying to be set on a copy of a slice from a DataFrame\n",
      "\n",
      "See the caveats in the documentation: https://pandas.pydata.org/pandas-docs/stable/user_guide/indexing.html#returning-a-view-versus-a-copy\n",
      "  pre_shuffled_data.dropna(axis=0, inplace=True)\n"
     ]
    }
   ],
   "source": [
    "pre_shuffled_data.dropna(axis=0, inplace=True)"
   ]
  },
  {
   "cell_type": "code",
   "execution_count": 246,
   "metadata": {},
   "outputs": [
    {
     "data": {
      "text/plain": [
       "numpy.ndarray"
      ]
     },
     "execution_count": 246,
     "metadata": {},
     "output_type": "execute_result"
    }
   ],
   "source": [
    "pre_shuffled_data = pre_shuffled_data.to_numpy()\n",
    "type(pre_shuffled_data)"
   ]
  },
  {
   "cell_type": "markdown",
   "metadata": {},
   "source": [
    "## Shuffling data"
   ]
  },
  {
   "cell_type": "code",
   "execution_count": 247,
   "metadata": {},
   "outputs": [],
   "source": [
    "shuffled_indices = np.arange(pre_shuffled_data.shape[0])\n",
    "np.random.shuffle(shuffled_indices)\n",
    "shuffled_data = pre_shuffled_data[shuffled_indices]\n",
    "shuffled_inputs = shuffled_data[:,1:]\n",
    "shuffled_targets = shuffled_data[:,0]\n"
   ]
  },
  {
   "cell_type": "markdown",
   "metadata": {},
   "source": [
    "## Splitting data between train, validation & test"
   ]
  },
  {
   "cell_type": "code",
   "execution_count": 248,
   "metadata": {},
   "outputs": [],
   "source": [
    "samples_count = shuffled_inputs.shape[0]\n",
    "train_samples_count = int(round(0.8*(samples_count),0))\n",
    "val_samples_count = int(round(0.1*(samples_count),0))\n",
    "test_samples_count = samples_count - train_samples_count - val_samples_count\n",
    "\n",
    "train_inputs = shuffled_inputs[:train_samples_count]\n",
    "train_targets = shuffled_targets[:train_samples_count]\n",
    "\n",
    "validation_inputs = shuffled_inputs[train_samples_count:train_samples_count+val_samples_count]\n",
    "validation_targets = shuffled_targets[train_samples_count:train_samples_count+val_samples_count]\n",
    "\n",
    "test_inputs = shuffled_inputs[train_samples_count+val_samples_count:]\n",
    "test_targets = shuffled_targets[train_samples_count+val_samples_count:]"
   ]
  },
  {
   "cell_type": "code",
   "execution_count": 249,
   "metadata": {},
   "outputs": [
    {
     "data": {
      "text/plain": [
       "array([ 210000.,  630000.,  440000., 3130000.,  547000.,  465000.,\n",
       "        520000.,  557000.,  760000.,  350000.,  600000.,  236000.,\n",
       "       1630000.,  745000.,  300000.,  480000.,  615000.,  400000.,\n",
       "        480000.,  495000.])"
      ]
     },
     "execution_count": 249,
     "metadata": {},
     "output_type": "execute_result"
    }
   ],
   "source": [
    "train_targets[0:20]"
   ]
  },
  {
   "cell_type": "code",
   "execution_count": 250,
   "metadata": {},
   "outputs": [
    {
     "data": {
      "text/plain": [
       "0"
      ]
     },
     "execution_count": 250,
     "metadata": {},
     "output_type": "execute_result"
    }
   ],
   "source": [
    "np.count_nonzero(np.isnan(train_targets))"
   ]
  },
  {
   "cell_type": "markdown",
   "metadata": {},
   "source": [
    "## Generating npz files and loading to variables"
   ]
  },
  {
   "cell_type": "code",
   "execution_count": 251,
   "metadata": {},
   "outputs": [],
   "source": [
    "np.savez('data_train',inputs=train_inputs, targets=train_targets)\n",
    "np.savez('data_val',inputs=validation_inputs, targets=validation_targets)\n",
    "np.savez('data_test',inputs=test_inputs, targets=test_targets)"
   ]
  },
  {
   "cell_type": "code",
   "execution_count": 252,
   "metadata": {},
   "outputs": [],
   "source": [
    "npz = np.load('data_train.npz')\n",
    "train_inputs = npz['inputs'].astype(np.float)\n",
    "train_targets = npz['targets'].astype(np.float)\n",
    "\n",
    "npz = np.load('data_val.npz')\n",
    "val_inputs = npz['inputs'].astype(np.float)\n",
    "val_targets = npz['targets'].astype(np.float)\n",
    "\n",
    "npz = np.load('data_test.npz')\n",
    "test_inputs = npz['inputs'].astype(np.float)\n",
    "test_targets = npz['targets'].astype(np.float)"
   ]
  },
  {
   "cell_type": "code",
   "execution_count": 253,
   "metadata": {},
   "outputs": [
    {
     "data": {
      "text/plain": [
       "751904.4125260961"
      ]
     },
     "execution_count": 253,
     "metadata": {},
     "output_type": "execute_result"
    }
   ],
   "source": [
    "test_targets.mean()\n",
    "# train_targets.shape"
   ]
  },
  {
   "cell_type": "markdown",
   "metadata": {},
   "source": [
    "## Setting up the model"
   ]
  },
  {
   "cell_type": "code",
   "execution_count": 254,
   "metadata": {},
   "outputs": [],
   "source": [
    "input_size = 10\n",
    "output_size = 1\n",
    "hidden_layer_size = 250\n",
    "\n",
    "model = tf.keras.Sequential([\n",
    "        tf.keras.layers.Dense(input_size, activation='elu'),\n",
    "    tf.keras.layers.Dense(hidden_layer_size, activation='elu'),\n",
    "    tf.keras.layers.Dense(hidden_layer_size, activation='elu'),\n",
    "    tf.keras.layers.Dense(output_size, activation='elu')\n",
    "])\n"
   ]
  },
  {
   "cell_type": "code",
   "execution_count": 255,
   "metadata": {},
   "outputs": [],
   "source": [
    "def rmse(y_true, y_pred):\n",
    "    return K.sqrt(K.mean(K.square(y_pred - y_true)))"
   ]
  },
  {
   "cell_type": "markdown",
   "metadata": {},
   "source": [
    "## Compiling and training the model"
   ]
  },
  {
   "cell_type": "code",
   "execution_count": 256,
   "metadata": {},
   "outputs": [
    {
     "name": "stdout",
     "output_type": "stream",
     "text": [
      "Epoch 1/5\n",
      "3833/3833 - 4s - loss: 478753.1562 - rmse: 478753.1562 - val_loss: 183802.1875 - val_rmse: 183802.1875 - 4s/epoch - 1ms/step\n",
      "Epoch 2/5\n",
      "3833/3833 - 4s - loss: 172946.3906 - rmse: 172946.3906 - val_loss: 181620.0469 - val_rmse: 181620.0469 - 4s/epoch - 981us/step\n",
      "Epoch 3/5\n",
      "3833/3833 - 4s - loss: 172381.9531 - rmse: 172381.9531 - val_loss: 180841.3594 - val_rmse: 180841.3594 - 4s/epoch - 974us/step\n",
      "Epoch 4/5\n",
      "3833/3833 - 4s - loss: 171832.5938 - rmse: 171832.5938 - val_loss: 181197.9688 - val_rmse: 181197.9688 - 4s/epoch - 978us/step\n"
     ]
    },
    {
     "data": {
      "text/plain": [
       "<keras.callbacks.History at 0x266f18740d0>"
      ]
     },
     "execution_count": 256,
     "metadata": {},
     "output_type": "execute_result"
    }
   ],
   "source": [
    "from tensorflow.keras.optimizers import Adam\n",
    "from tensorflow.keras import backend as K\n",
    "\n",
    "model.compile(\n",
    "    loss=rmse,\n",
    "    optimizer=Adam(learning_rate=0.0001),\n",
    "    metrics=[rmse]\n",
    "            )\n",
    "\n",
    "batch_size = 1\n",
    "max_epochs = 5\n",
    "\n",
    "early_stopping = tf.keras.callbacks.EarlyStopping(patience=1)\n",
    "\n",
    "model.fit(\n",
    "         train_inputs, \n",
    "         train_targets,\n",
    "         batch_size = batch_size,\n",
    "         epochs = max_epochs,\n",
    "         callbacks=[early_stopping],\n",
    "         validation_data = (val_inputs, val_targets),\n",
    "         verbose = 2\n",
    "         )"
   ]
  },
  {
   "cell_type": "markdown",
   "metadata": {},
   "source": [
    "## Testing and evaluating the model"
   ]
  },
  {
   "cell_type": "code",
   "execution_count": 257,
   "metadata": {},
   "outputs": [
    {
     "name": "stdout",
     "output_type": "stream",
     "text": [
      "120/120 [==============================] - 0s 1ms/step - loss: 307011.8750 - rmse: 306643.4688\n"
     ]
    }
   ],
   "source": [
    "test_loss, test_accuracy = model.evaluate(train_inputs, train_targets)"
   ]
  },
  {
   "cell_type": "code",
   "execution_count": 242,
   "metadata": {},
   "outputs": [
    {
     "data": {
      "text/plain": [
       "array([1045051.2 ,  811895.7 ,  586007.44,  985645.06,  658507.3 ,\n",
       "        599984.25,  799243.06,  809392.  , 1245181.2 ,  463591.62,\n",
       "        328033.56,  651641.94,  869998.25,  512720.12,  646497.5 ],\n",
       "      dtype=float32)"
      ]
     },
     "execution_count": 242,
     "metadata": {},
     "output_type": "execute_result"
    }
   ],
   "source": [
    "predictions = model.predict(test_inputs)\n",
    "predictions = np.ravel(predictions)\n",
    "predictions[5:20]"
   ]
  },
  {
   "cell_type": "code",
   "execution_count": 243,
   "metadata": {},
   "outputs": [
    {
     "data": {
      "text/plain": [
       "array([1235000.,  970000., 1090000., 1210000.,  550000.,  570000.,\n",
       "        895000.,  799000., 1760000.,  528000.,  275000.,  520000.,\n",
       "        818000.,  390000.,  675000.])"
      ]
     },
     "execution_count": 243,
     "metadata": {},
     "output_type": "execute_result"
    }
   ],
   "source": [
    "test_targets[5:20]"
   ]
  },
  {
   "cell_type": "code",
   "execution_count": null,
   "metadata": {},
   "outputs": [],
   "source": []
  }
 ],
 "metadata": {
  "kernelspec": {
   "display_name": "Python 3",
   "language": "python",
   "name": "python3"
  },
  "language_info": {
   "codemirror_mode": {
    "name": "ipython",
    "version": 3
   },
   "file_extension": ".py",
   "mimetype": "text/x-python",
   "name": "python",
   "nbconvert_exporter": "python",
   "pygments_lexer": "ipython3",
   "version": "3.8.5"
  }
 },
 "nbformat": 4,
 "nbformat_minor": 4
}
